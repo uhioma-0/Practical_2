{
  "cells": [
    {
      "cell_type": "code",
      "execution_count": null,
      "metadata": {
        "id": "wztHEF4Bc7NV"
      },
      "outputs": [],
      "source": [
        "import tensorflow as tf\n",
        "from tensorflow.keras.layers import Conv2D, MaxPooling2D, Flatten, Dense, Dropout\n",
        "from tensorflow.keras.models import Sequential\n",
        "from tensorflow.keras.datasets import mnist\n",
        "from tensorflow.keras.utils import to_categorical\n",
        "import numpy as np\n",
        "import tensorflow_datasets as tfds"
      ]
    },
    {
      "cell_type": "code",
      "source": [
        "# Set up GPU configuration for TensorFlow\n",
        "if tf.test.gpu_device_name():\n",
        "    print('GPU found')\n",
        "    tf.config.experimental.set_memory_growth(tf.config.list_physical_devices('GPU')[0], True)\n",
        "else:\n",
        "    print(\"No GPU found\")"
      ],
      "metadata": {
        "colab": {
          "base_uri": "https://localhost:8080/"
        },
        "id": "NlBZhaRxdpnJ",
        "outputId": "a148888e-5cd1-44b0-83ca-57f63739d6a9"
      },
      "execution_count": null,
      "outputs": [
        {
          "output_type": "stream",
          "name": "stdout",
          "text": [
            "GPU found\n"
          ]
        }
      ]
    },
    {
      "cell_type": "code",
      "execution_count": null,
      "metadata": {
        "id": "1fmUqVfSc7NW"
      },
      "outputs": [],
      "source": [
        "# Load MNIST dataset\n",
        "(x_train, y_train), (x_test, y_test) = mnist.load_data()\n",
        "\n",
        "# Preprocess MNIST data\n",
        "x_train = x_train.reshape(-1, 28, 28, 1).astype('float32') / 255.0\n",
        "x_test = x_test.reshape(-1, 28, 28, 1).astype('float32') / 255.0\n",
        "y_train = to_categorical(y_train)\n",
        "y_test = to_categorical(y_test)"
      ]
    },
    {
      "cell_type": "code",
      "execution_count": null,
      "metadata": {
        "id": "b7tMQZy0c7NX"
      },
      "outputs": [],
      "source": [
        "# Define CNN model for MNIST\n",
        "def mnist_cnn():\n",
        "    model = Sequential()\n",
        "    model.add(Conv2D(32, (3, 3), activation='relu', input_shape=(28, 28, 1)))\n",
        "    model.add(Conv2D(64, (3, 3), activation='relu'))\n",
        "    model.add(MaxPooling2D(pool_size=(2, 2)))\n",
        "    model.add(Flatten())\n",
        "    model.add(Dense(128, activation='relu'))\n",
        "    model.add(Dropout(0.5))\n",
        "    model.add(Dense(10, activation='softmax'))\n",
        "    return model"
      ]
    },
    {
      "cell_type": "code",
      "execution_count": null,
      "metadata": {
        "colab": {
          "base_uri": "https://localhost:8080/"
        },
        "id": "qKfPcPAXc7NX",
        "outputId": "ad654bfa-61ef-4261-dad2-895a0bc71887"
      },
      "outputs": [
        {
          "output_type": "stream",
          "name": "stdout",
          "text": [
            "Epoch 1/10\n",
            "469/469 [==============================] - 9s 9ms/step - loss: 0.2355 - accuracy: 0.9284 - val_loss: 0.0558 - val_accuracy: 0.9824\n",
            "Epoch 2/10\n",
            "469/469 [==============================] - 4s 8ms/step - loss: 0.0820 - accuracy: 0.9760 - val_loss: 0.0387 - val_accuracy: 0.9858\n",
            "Epoch 3/10\n",
            "469/469 [==============================] - 4s 8ms/step - loss: 0.0593 - accuracy: 0.9825 - val_loss: 0.0363 - val_accuracy: 0.9880\n",
            "Epoch 4/10\n",
            "469/469 [==============================] - 4s 9ms/step - loss: 0.0485 - accuracy: 0.9851 - val_loss: 0.0310 - val_accuracy: 0.9896\n",
            "Epoch 5/10\n",
            "469/469 [==============================] - 4s 8ms/step - loss: 0.0404 - accuracy: 0.9870 - val_loss: 0.0292 - val_accuracy: 0.9899\n",
            "Epoch 6/10\n",
            "469/469 [==============================] - 4s 8ms/step - loss: 0.0341 - accuracy: 0.9890 - val_loss: 0.0300 - val_accuracy: 0.9903\n",
            "Epoch 7/10\n",
            "469/469 [==============================] - 4s 8ms/step - loss: 0.0287 - accuracy: 0.9904 - val_loss: 0.0295 - val_accuracy: 0.9908\n",
            "Epoch 8/10\n",
            "469/469 [==============================] - 4s 8ms/step - loss: 0.0251 - accuracy: 0.9918 - val_loss: 0.0279 - val_accuracy: 0.9906\n",
            "Epoch 9/10\n",
            "469/469 [==============================] - 4s 8ms/step - loss: 0.0242 - accuracy: 0.9923 - val_loss: 0.0269 - val_accuracy: 0.9914\n",
            "Epoch 10/10\n",
            "469/469 [==============================] - 4s 9ms/step - loss: 0.0211 - accuracy: 0.9932 - val_loss: 0.0339 - val_accuracy: 0.9901\n",
            "313/313 [==============================] - 1s 3ms/step - loss: 0.0339 - accuracy: 0.9901\n",
            "Accuracy on MNIST dataset: 99.01%\n"
          ]
        }
      ],
      "source": [
        "# Compile and train CNN model on MNIST dataset\n",
        "model_mnist = mnist_cnn()\n",
        "model_mnist.compile(optimizer='adam', loss='categorical_crossentropy', metrics=['accuracy'])\n",
        "model_mnist.fit(x_train, y_train, epochs=10, batch_size=128, validation_data=(x_test, y_test))\n",
        "\n",
        "# Evaluate accuracy of CNN model on MNIST dataset\n",
        "_, acc_mnist = model_mnist.evaluate(x_test, y_test)\n",
        "print(\"Accuracy on MNIST dataset: {:.2f}%\".format(acc_mnist * 100))"
      ]
    },
    {
      "cell_type": "code",
      "execution_count": null,
      "metadata": {
        "id": "7qEx1t41c7NX"
      },
      "outputs": [],
      "source": [
        "# Load SVHN dataset\n",
        "svhn_train, svhn_test = tfds.load('svhn_cropped', split=['train', 'test'], shuffle_files=True, as_supervised=True)"
      ]
    },
    {
      "cell_type": "code",
      "source": [
        "# Preprocess SVHN data\n",
        "def preprocess_image(image, label):\n",
        "    image = tf.cast(image, tf.float32) / 255.0 \n",
        "    return image, label\n"
      ],
      "metadata": {
        "id": "ceN8fhOQffoW"
      },
      "execution_count": null,
      "outputs": []
    },
    {
      "cell_type": "code",
      "execution_count": null,
      "metadata": {
        "id": "ASPURJKsc7NY",
        "colab": {
          "base_uri": "https://localhost:8080/"
        },
        "outputId": "2d040f8d-a0cc-4a3c-ea01-37aecbd58618"
      },
      "outputs": [
        {
          "output_type": "stream",
          "name": "stdout",
          "text": [
            "(128, 32, 32, 3)\n",
            "labrl (128, 10)\n",
            "Epoch 1/10\n",
            "573/573 [==============================] - 19s 29ms/step - loss: 1.4731 - accuracy: 0.4974 - val_loss: 0.7535 - val_accuracy: 0.7905\n",
            "Epoch 2/10\n",
            "573/573 [==============================] - 18s 32ms/step - loss: 0.8873 - accuracy: 0.7149 - val_loss: 0.6694 - val_accuracy: 0.8083\n",
            "Epoch 3/10\n",
            "573/573 [==============================] - 18s 31ms/step - loss: 0.8023 - accuracy: 0.7435 - val_loss: 0.6028 - val_accuracy: 0.8287\n",
            "Epoch 4/10\n",
            "573/573 [==============================] - 18s 32ms/step - loss: 0.7437 - accuracy: 0.7615 - val_loss: 0.5772 - val_accuracy: 0.8331\n",
            "Epoch 5/10\n",
            "573/573 [==============================] - 16s 29ms/step - loss: 0.7022 - accuracy: 0.7726 - val_loss: 0.5418 - val_accuracy: 0.8428\n",
            "Epoch 6/10\n",
            "573/573 [==============================] - 16s 28ms/step - loss: 0.6786 - accuracy: 0.7816 - val_loss: 0.5292 - val_accuracy: 0.8460\n",
            "Epoch 7/10\n",
            "573/573 [==============================] - 18s 32ms/step - loss: 0.6506 - accuracy: 0.7895 - val_loss: 0.5269 - val_accuracy: 0.8462\n",
            "Epoch 8/10\n",
            "573/573 [==============================] - 17s 30ms/step - loss: 0.6238 - accuracy: 0.7994 - val_loss: 0.5114 - val_accuracy: 0.8506\n",
            "Epoch 9/10\n",
            "573/573 [==============================] - 16s 28ms/step - loss: 0.6023 - accuracy: 0.8057 - val_loss: 0.5034 - val_accuracy: 0.8534\n",
            "Epoch 10/10\n",
            "573/573 [==============================] - 18s 32ms/step - loss: 0.5793 - accuracy: 0.8136 - val_loss: 0.5023 - val_accuracy: 0.8544\n",
            "204/204 [==============================] - 5s 23ms/step - loss: 0.5023 - accuracy: 0.8544\n",
            "Accuracy on SVHN dataset: 85.44%\n"
          ]
        }
      ],
      "source": [
        "\n",
        "# Use CNN model trained on MNIST as pre-trained model for SVHN\n",
        "model_svhn  = Sequential()\n",
        "model_svhn.add(Conv2D(32, (3, 3), activation='relu', input_shape=(32, 32, 3)))\n",
        "model_svhn.add(Conv2D(64, (3, 3), activation='relu'))\n",
        "model_svhn.add(MaxPooling2D(pool_size=(2, 2)))\n",
        "model_svhn.add(Flatten())\n",
        "model_svhn.add(Dense(128, activation='relu'))\n",
        "model_svhn.add(Dropout(0.5))\n",
        "model_svhn.add(Dense(10, activation='softmax'))\n",
        "\n",
        "model_svhn.compile(optimizer='adam', loss='categorical_crossentropy', metrics=['accuracy'])\n",
        "svhn_train = svhn_train.map(preprocess_image).map(lambda x, y: (x, tf.one_hot(y, 10))).batch(128)\n",
        "svhn_test = svhn_test.map(preprocess_image).map(lambda x, y: (x, tf.one_hot(y, 10))).batch(128)\n",
        "\n",
        "# Copy weights from MNIST model to SVHN model for layers with the same name\n",
        "for i in range(len(model_mnist.layers)):\n",
        "    if model_mnist.layers[i].name == model_svhn.layers[i].name:\n",
        "        model_svhn.layers[i].set_weights(model_mnist.layers[i].get_weights())\n",
        "for images, label in svhn_train.take(1):\n",
        "    print(images.shape)\n",
        "    print(f'labrl {label.shape}')\n",
        "for layer in model_svhn.layers[:-1]:\n",
        "    layer.trainable = False\n",
        "model_svhn.fit(svhn_train, epochs=10, validation_data=svhn_test)\n",
        "\n",
        "# Evaluate accuracy of CNN model on SVHN dataset\n",
        "_, acc_svhn = model_svhn.evaluate(svhn_test)\n",
        "print(\"Accuracy on SVHN dataset: {:.2f}%\".format(acc_svhn * 100))"
      ]
    }
  ],
  "metadata": {
    "language_info": {
      "name": "python"
    },
    "orig_nbformat": 4,
    "colab": {
      "provenance": [],
      "gpuType": "T4"
    },
    "kernelspec": {
      "name": "python3",
      "display_name": "Python 3"
    },
    "gpuClass": "standard",
    "accelerator": "GPU"
  },
  "nbformat": 4,
  "nbformat_minor": 0
}